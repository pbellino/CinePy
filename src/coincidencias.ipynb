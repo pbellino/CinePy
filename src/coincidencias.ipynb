{
 "cells": [
  {
   "cell_type": "code",
   "execution_count": 1,
   "metadata": {},
   "outputs": [],
   "source": [
    "%load_ext Cython"
   ]
  },
  {
   "cell_type": "code",
   "execution_count": 2,
   "metadata": {},
   "outputs": [],
   "source": [
    "%matplotlib notebook\n",
    "import numpy as np\n",
    "import matplotlib.pyplot as plt\n",
    "\n",
    "import sys\n",
    "sys.path.append('../')\n",
    "    \n",
    "from modules.io_modules import read_timestamp\n",
    "from modules.alfa_rossi_preprocesamiento import corrige_roll_over"
   ]
  },
  {
   "cell_type": "markdown",
   "metadata": {},
   "source": [
    "## Se leen los tiempos de llegada de los pulsos"
   ]
  },
  {
   "cell_type": "code",
   "execution_count": 3,
   "metadata": {},
   "outputs": [
    {
     "name": "stdout",
     "output_type": "stream",
     "text": [
      "El archivo tiene encabezado\n",
      "--------------------------------------------------\n",
      "Primer dato de ../datos/medicion04.a.inter.D1.bin: 238291\n",
      "\n",
      "El archivo tiene encabezado\n",
      "--------------------------------------------------\n",
      "Primer dato de ../datos/medicion04.a.inter.D2.bin: 244967\n",
      "\n",
      "Corrigiendo roll-over del archivo [0]\n",
      "Tipo de dato inicial: >u4\n",
      "Tipo de dato final uint64\n",
      "--------------------------------------------------\n",
      "Corrigiendo roll-over del archivo [1]\n",
      "Tipo de dato inicial: >u4\n",
      "Tipo de dato final uint64\n",
      "--------------------------------------------------\n"
     ]
    }
   ],
   "source": [
    "nombres = [                                                                    \n",
    "           '../datos/medicion04.a.inter.D1.bin',                                \n",
    "           '../datos/medicion04.a.inter.D2.bin',\n",
    "]                                                                   \n",
    "                                                        \n",
    "tiempos_cro = []\n",
    "headers = []\n",
    "for nombre in nombres:\n",
    "    _tiempo_cro, _header = read_timestamp(nombre, common_time=True)\n",
    "    tiempos_cro.append(_tiempo_cro)\n",
    "    headers.append(_header)\n",
    "    print(f\"Primer dato de {nombre}: {_tiempo_cro[0]}\\n\")\n",
    "\n",
    "tiempos = corrige_roll_over(tiempos_cro)\n"
   ]
  },
  {
   "cell_type": "markdown",
   "metadata": {},
   "source": [
    "## Se definen las funciones para calcular las coincidencias"
   ]
  },
  {
   "cell_type": "code",
   "execution_count": 4,
   "metadata": {
    "code_folding": []
   },
   "outputs": [],
   "source": [
    "%%cython\n",
    "cimport cython\n",
    "\n",
    "@cython.boundscheck(False)\n",
    "@cython.wraparound(False)\n",
    "def calcula_coincidencias_double(double[:] tiempo_1, double[:] tiempo_2, double time_resolution, double delay):\n",
    "    cdef int N1, N2, Nc, p, i, j\n",
    "    N1 = tiempo_1.size\n",
    "    N2 = tiempo_2.size\n",
    "    Nc = 0\n",
    "    p = 0\n",
    "    for i in range(N1):\n",
    "        for j in range(p, N2):\n",
    "            if tiempo_2[j] + time_resolution > tiempo_1[i] + delay:\n",
    "                if tiempo_2[j] < tiempo_1[i] + delay + time_resolution:\n",
    "                    Nc += 1\n",
    "                    p += 1\n",
    "                    break\n",
    "    return Nc\n",
    "\n",
    "@cython.boundscheck(False)\n",
    "@cython.wraparound(False)\n",
    "def calcula_coincidencias_uint64(unsigned long long[:] tiempo_1, unsigned long long[:] tiempo_2, unsigned long long time_resolution, unsigned long long delay):\n",
    "    cdef int N1, N2, Nc, p, i, j\n",
    "    N1 = tiempo_1.size\n",
    "    N2 = tiempo_2.size\n",
    "    Nc = 0\n",
    "    p = 0\n",
    "    for i in range(N1):\n",
    "        for j in range(p, N2):\n",
    "            if tiempo_2[j] + time_resolution > tiempo_1[i] + delay:\n",
    "                if tiempo_2[j] < tiempo_1[i] + delay + time_resolution:\n",
    "                    Nc += 1\n",
    "                    p += 1\n",
    "                    break\n",
    "    return Nc"
   ]
  },
  {
   "cell_type": "code",
   "execution_count": 5,
   "metadata": {},
   "outputs": [],
   "source": [
    "def calcula_coincidencias(tiempo_1, tiempo_2, time_resolution, delay=0):\n",
    "    \"\"\"\n",
    "    Calcula el número de coincidencias entre las señaels tiempo_1 y tiempo_2.\n",
    "    \n",
    "    Se suma un delay a tiempo_1. Todos los parámetros de entrada deben tener las mismas unidades,\n",
    "    ya sea en segundos o en número de pulsos de reloj.\n",
    "    \n",
    "    Se considera coincidencia cuando un pulso de tiempo_1 está a menos de time_resolution de otro pulso\n",
    "    de tiempo_2.\n",
    "    \n",
    "    Esta función es un wrapper de funciones pre-compiladas en cython, se deben respetar los tipos de datos\n",
    "    para los vectores temporales (float64 o uint64).\n",
    "    \n",
    "    Parámetros\n",
    "    ----------\n",
    "        tiempo_1, tiempo_2: ndarray de float64 o uint64\n",
    "            Tiempos de cada señal\n",
    "        time_resolution: \n",
    "            Ventana temporal para las coincidencias\n",
    "        delay:\n",
    "            Delay que se le suma a tiempo_1\n",
    "    \n",
    "    Resultados\n",
    "    ----------\n",
    "        Nc: \n",
    "            Número de coincidencias\n",
    "    \n",
    "    \"\"\"\n",
    "    if tiempo_1.dtype == \"float64\":\n",
    "        return calcula_coincidencias_double(tiempo_1, tiempo_2, time_resolution, delay)\n",
    "    elif tiempo_1.dtype == \"uint64\":\n",
    "        return calcula_coincidencias_uint64(tiempo_1, tiempo_2, time_resolution, delay)\n",
    "    else:\n",
    "        raise TypeError(\"El tipo de datos debe ser float64 (float, np.double) o uint64 (np.uint64, np.ulonglong)\")"
   ]
  },
  {
   "cell_type": "code",
   "execution_count": 6,
   "metadata": {},
   "outputs": [],
   "source": [
    "def calcula_coincidencias_lento(times_1, times_2, time_resolution, delay):\n",
    "    times_2_d = times_2 + delay\n",
    "    N1 = times_1.size\n",
    "    N2 = times_2_d.size\n",
    "    Nc = 0\n",
    "    p = 0\n",
    "    for i in range(N1):\n",
    "        for j in range(p, N2):\n",
    "            if times_2_d[j] > times_1[i] - time_resolution:\n",
    "                if times_2_d[j] < times_1[i] + time_resolution:\n",
    "                    Nc += 1\n",
    "                    p += 1\n",
    "                    break\n",
    "    return Nc"
   ]
  },
  {
   "cell_type": "markdown",
   "metadata": {},
   "source": [
    "## Prueba de las funciones\n",
    "\n",
    "Pruebo con una misma señal con delay. Si el delay es más grande que la ventana, no debe contar coincidencias. De lo contrario se tienen tantas coincidencias como pulsos detectados."
   ]
  },
  {
   "cell_type": "code",
   "execution_count": 7,
   "metadata": {},
   "outputs": [],
   "source": [
    "# Selecciono una parte de los datos\n",
    "dato = tiempos[0][0:1000]\n",
    "# convierto datos a float64 \n",
    "dato_float = np.asarray(dato, dtype=float)"
   ]
  },
  {
   "cell_type": "code",
   "execution_count": 8,
   "metadata": {},
   "outputs": [
    {
     "name": "stdout",
     "output_type": "stream",
     "text": [
      "1000 1000\n"
     ]
    }
   ],
   "source": [
    "#%%timeit\n",
    "# Time resolution\n",
    "tr = 9\n",
    "# Delay\n",
    "delay = 8\n",
    "# Prueba cuando los datos son uint64\n",
    "r_int = calcula_coincidencias(dato, dato, tr, delay)\n",
    "# Prueba cuando los datos son float64\n",
    "r_dbl = calcula_coincidencias(dato_float, dato_float, tr, delay)\n",
    "print(r_int, r_dbl)"
   ]
  },
  {
   "cell_type": "code",
   "execution_count": 9,
   "metadata": {},
   "outputs": [
    {
     "data": {
      "text/plain": [
       "1000"
      ]
     },
     "execution_count": 9,
     "metadata": {},
     "output_type": "execute_result"
    }
   ],
   "source": [
    "#%%timeit\n",
    "# Puede tardar mucho si la cantidad de datos es > 1000\n",
    "calcula_coincidencias_lento(dato, dato, tr, delay)"
   ]
  }
 ],
 "metadata": {
  "kernelspec": {
   "display_name": "Python 3 (ipykernel)",
   "language": "python",
   "name": "python3"
  },
  "language_info": {
   "codemirror_mode": {
    "name": "ipython",
    "version": 3
   },
   "file_extension": ".py",
   "mimetype": "text/x-python",
   "name": "python",
   "nbconvert_exporter": "python",
   "pygments_lexer": "ipython3",
   "version": "3.8.10"
  }
 },
 "nbformat": 4,
 "nbformat_minor": 2
}
